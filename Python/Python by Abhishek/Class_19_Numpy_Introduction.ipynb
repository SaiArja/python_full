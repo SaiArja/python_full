{
 "cells": [
  {
   "cell_type": "code",
   "execution_count": 5,
   "id": "a3dbe970",
   "metadata": {
    "ExecuteTime": {
     "end_time": "2021-06-14T02:37:16.176362Z",
     "start_time": "2021-06-14T02:37:16.171118Z"
    }
   },
   "outputs": [
    {
     "name": "stdout",
     "output_type": "stream",
     "text": [
      "[[0 0 0 0]\n",
      " [0 0 0 0]\n",
      " [0 0 0 0]]\n",
      "int64\n"
     ]
    }
   ],
   "source": [
    "# Built-in function/methods to create an array\n",
    "import numpy as np\n",
    "\n",
    "arr1 = np.zeros((3, 4), dtype = int)\n",
    "print(arr1)\n",
    "print(arr1.dtype)\n",
    "\n",
    "\n"
   ]
  },
  {
   "cell_type": "code",
   "execution_count": 7,
   "id": "63ed397a",
   "metadata": {
    "ExecuteTime": {
     "end_time": "2021-06-14T02:38:03.461069Z",
     "start_time": "2021-06-14T02:38:03.455418Z"
    }
   },
   "outputs": [
    {
     "name": "stdout",
     "output_type": "stream",
     "text": [
      "[[1 1 1 1]\n",
      " [1 1 1 1]\n",
      " [1 1 1 1]]\n",
      "int64\n"
     ]
    }
   ],
   "source": [
    "# Creating an array of ones\n",
    "arr1 = np.ones((3, 4), dtype = int)\n",
    "print(arr1)\n",
    "print(arr1.dtype)"
   ]
  },
  {
   "cell_type": "code",
   "execution_count": 11,
   "id": "a292c1bf",
   "metadata": {
    "ExecuteTime": {
     "end_time": "2021-06-14T02:39:31.659964Z",
     "start_time": "2021-06-14T02:39:31.653161Z"
    }
   },
   "outputs": [
    {
     "name": "stdout",
     "output_type": "stream",
     "text": [
      "[[2 2 2 2]\n",
      " [2 2 2 2]\n",
      " [2 2 2 2]]\n",
      "int64\n"
     ]
    }
   ],
   "source": [
    "# Creating an array of twos\n",
    "arr1 = np.ones((3, 4), dtype = int)\n",
    "print(arr1*2)\n",
    "print(arr1.dtype)"
   ]
  },
  {
   "cell_type": "code",
   "execution_count": 12,
   "id": "8d4b8ef7",
   "metadata": {
    "ExecuteTime": {
     "end_time": "2021-06-14T02:39:33.565434Z",
     "start_time": "2021-06-14T02:39:33.556298Z"
    }
   },
   "outputs": [
    {
     "data": {
      "text/plain": [
       "array([[-1.28822975e-231, -1.28822975e-231,  9.38724727e-323,\n",
       "         0.00000000e+000,  0.00000000e+000],\n",
       "       [ 0.00000000e+000,  0.00000000e+000,  0.00000000e+000,\n",
       "         0.00000000e+000,  0.00000000e+000],\n",
       "       [ 0.00000000e+000,  0.00000000e+000,  0.00000000e+000,\n",
       "         0.00000000e+000,  0.00000000e+000],\n",
       "       [ 2.37663529e-312, -1.28822975e-231, -1.49457452e-154,\n",
       "         1.48219694e-323,  0.00000000e+000]])"
      ]
     },
     "execution_count": 12,
     "metadata": {},
     "output_type": "execute_result"
    }
   ],
   "source": [
    "# creating an empty array\n",
    "np.empty((4,5))\n",
    "\n"
   ]
  },
  {
   "cell_type": "code",
   "execution_count": 13,
   "id": "47c1e8b2",
   "metadata": {
    "ExecuteTime": {
     "end_time": "2021-06-14T02:39:35.618555Z",
     "start_time": "2021-06-14T02:39:35.607300Z"
    }
   },
   "outputs": [
    {
     "data": {
      "text/plain": [
       "array([[1.e-323, 1.e-323, 1.e-323, 1.e-323],\n",
       "       [1.e-323, 1.e-323, 1.e-323, 1.e-323],\n",
       "       [1.e-323, 1.e-323, 1.e-323, 1.e-323]])"
      ]
     },
     "execution_count": 13,
     "metadata": {},
     "output_type": "execute_result"
    }
   ],
   "source": [
    "np.empty((3,4))"
   ]
  },
  {
   "cell_type": "code",
   "execution_count": 22,
   "id": "426d9f68",
   "metadata": {
    "ExecuteTime": {
     "end_time": "2021-06-14T02:46:50.741816Z",
     "start_time": "2021-06-14T02:46:50.723829Z"
    }
   },
   "outputs": [
    {
     "data": {
      "text/plain": [
       "array([[1., 0., 0.],\n",
       "       [0., 1., 0.],\n",
       "       [0., 0., 1.]])"
      ]
     },
     "execution_count": 22,
     "metadata": {},
     "output_type": "execute_result"
    }
   ],
   "source": [
    "# Identity matrix\n",
    "\n",
    "# 1 0 0 0 \n",
    "# 0 1 0 0 \n",
    "# 0 0 1 0\n",
    "# 0 0 0 1\n",
    "\n",
    "arr = np.eye(3)\n",
    "# arr[::-1]\n",
    "# arr.dtype = float\n",
    "arr\n",
    "\n"
   ]
  },
  {
   "cell_type": "code",
   "execution_count": 35,
   "id": "770faa5d",
   "metadata": {
    "ExecuteTime": {
     "end_time": "2021-06-14T02:59:25.177150Z",
     "start_time": "2021-06-14T02:59:25.169318Z"
    }
   },
   "outputs": [
    {
     "name": "stdout",
     "output_type": "stream",
     "text": [
      "[[ 2.          2.08988764  2.17977528  2.26966292  2.35955056  2.4494382 ]\n",
      " [ 2.53932584  2.62921348  2.71910112  2.80898876  2.8988764   2.98876404]\n",
      " [ 3.07865169  3.16853933  3.25842697  3.34831461  3.43820225  3.52808989]\n",
      " [ 3.61797753  3.70786517  3.79775281  3.88764045  3.97752809  4.06741573]\n",
      " [ 4.15730337  4.24719101  4.33707865  4.42696629  4.51685393  4.60674157]\n",
      " [ 4.69662921  4.78651685  4.87640449  4.96629213  5.05617978  5.14606742]\n",
      " [ 5.23595506  5.3258427   5.41573034  5.50561798  5.59550562  5.68539326]\n",
      " [ 5.7752809   5.86516854  5.95505618  6.04494382  6.13483146  6.2247191 ]\n",
      " [ 6.31460674  6.40449438  6.49438202  6.58426966  6.6741573   6.76404494]\n",
      " [ 6.85393258  6.94382022  7.03370787  7.12359551  7.21348315  7.30337079]\n",
      " [ 7.39325843  7.48314607  7.57303371  7.66292135  7.75280899  7.84269663]\n",
      " [ 7.93258427  8.02247191  8.11235955  8.20224719  8.29213483  8.38202247]\n",
      " [ 8.47191011  8.56179775  8.65168539  8.74157303  8.83146067  8.92134831]\n",
      " [ 9.01123596  9.1011236   9.19101124  9.28089888  9.37078652  9.46067416]\n",
      " [ 9.5505618   9.64044944  9.73033708  9.82022472  9.91011236 10.        ]]\n"
     ]
    }
   ],
   "source": [
    "# linspace and arange\n",
    "\n",
    "# arange(start, stop, step) - similar to range\n",
    "# Difference between arange and range - arnage can create a sequence of float values\n",
    "\n",
    "# arr = np.arange(2, 10, 1)\n",
    "# print(arr)\n",
    "\n",
    "\n",
    "# arr = np.arange(2, 10, 0.5)\n",
    "# print(arr)\n",
    "\n",
    "\n",
    "arr = np.linspace(2, 10, 90).reshape(15, 6)\n",
    "print(arr)\n",
    "\n",
    "\n"
   ]
  },
  {
   "cell_type": "code",
   "execution_count": 32,
   "id": "f064abed",
   "metadata": {
    "ExecuteTime": {
     "end_time": "2021-06-14T02:57:37.231429Z",
     "start_time": "2021-06-14T02:57:37.226990Z"
    }
   },
   "outputs": [],
   "source": [
    "# 8/89"
   ]
  },
  {
   "cell_type": "code",
   "execution_count": 38,
   "id": "525cda76",
   "metadata": {
    "ExecuteTime": {
     "end_time": "2021-06-14T03:01:55.368307Z",
     "start_time": "2021-06-14T03:01:55.360873Z"
    }
   },
   "outputs": [
    {
     "name": "stdout",
     "output_type": "stream",
     "text": [
      "[[ 2.          2.08988764  2.17977528  2.26966292  2.35955056  2.4494382 ]\n",
      " [ 2.53932584  2.62921348  2.71910112  2.80898876  2.8988764   2.98876404]\n",
      " [ 3.07865169  3.16853933  3.25842697  3.34831461  3.43820225  3.52808989]\n",
      " [ 3.61797753  3.70786517  3.79775281  3.88764045  3.97752809  4.06741573]\n",
      " [ 4.15730337  4.24719101  4.33707865  4.42696629  4.51685393  4.60674157]\n",
      " [ 4.69662921  4.78651685  4.87640449  4.96629213  5.05617978  5.14606742]\n",
      " [ 5.23595506  5.3258427   5.41573034  5.50561798  5.59550562  5.68539326]\n",
      " [ 5.7752809   5.86516854  5.95505618  6.04494382  6.13483146  6.2247191 ]\n",
      " [ 6.31460674  6.40449438  6.49438202  6.58426966  6.6741573   6.76404494]\n",
      " [ 6.85393258  6.94382022  7.03370787  7.12359551  7.21348315  7.30337079]\n",
      " [ 7.39325843  7.48314607  7.57303371  7.66292135  7.75280899  7.84269663]\n",
      " [ 7.93258427  8.02247191  8.11235955  8.20224719  8.29213483  8.38202247]\n",
      " [ 8.47191011  8.56179775  8.65168539  8.74157303  8.83146067  8.92134831]\n",
      " [ 9.01123596  9.1011236   9.19101124  9.28089888  9.37078652  9.46067416]\n",
      " [ 9.5505618   9.64044944  9.73033708  9.82022472  9.91011236 10.        ]]\n"
     ]
    }
   ],
   "source": [
    "# Changing the shape of an array\n",
    "# reshape(), shape\n",
    "\n",
    "# reshape creates a new object\n",
    "# shape attribute makes the changes to existing object\n",
    "\n",
    "# arr = np.linspace(2, 10, 90)\n",
    "\n",
    "# arr1 = arr.reshape(15, 6)\n",
    "# print(arr1)\n",
    "# print()\n",
    "# print(arr)\n",
    "\n",
    "# arr.shape = (15,6)\n",
    "\n",
    "# print(arr)\n",
    "\n",
    "\n",
    "\n",
    "\n"
   ]
  },
  {
   "cell_type": "code",
   "execution_count": 43,
   "id": "19dde6e1",
   "metadata": {
    "ExecuteTime": {
     "end_time": "2021-06-14T03:04:08.387558Z",
     "start_time": "2021-06-14T03:04:08.377501Z"
    }
   },
   "outputs": [
    {
     "data": {
      "text/plain": [
       "array([[ 2.        ,  2.08988764,  2.17977528,  2.26966292,  2.35955056,\n",
       "         2.4494382 ,  2.53932584,  2.62921348,  2.71910112],\n",
       "       [ 2.80898876,  2.8988764 ,  2.98876404,  3.07865169,  3.16853933,\n",
       "         3.25842697,  3.34831461,  3.43820225,  3.52808989],\n",
       "       [ 3.61797753,  3.70786517,  3.79775281,  3.88764045,  3.97752809,\n",
       "         4.06741573,  4.15730337,  4.24719101,  4.33707865],\n",
       "       [ 4.42696629,  4.51685393,  4.60674157,  4.69662921,  4.78651685,\n",
       "         4.87640449,  4.96629213,  5.05617978,  5.14606742],\n",
       "       [ 5.23595506,  5.3258427 ,  5.41573034,  5.50561798,  5.59550562,\n",
       "         5.68539326,  5.7752809 ,  5.86516854,  5.95505618],\n",
       "       [ 6.04494382,  6.13483146,  6.2247191 ,  6.31460674,  6.40449438,\n",
       "         6.49438202,  6.58426966,  6.6741573 ,  6.76404494],\n",
       "       [ 6.85393258,  6.94382022,  7.03370787,  7.12359551,  7.21348315,\n",
       "         7.30337079,  7.39325843,  7.48314607,  7.57303371],\n",
       "       [ 7.66292135,  7.75280899,  7.84269663,  7.93258427,  8.02247191,\n",
       "         8.11235955,  8.20224719,  8.29213483,  8.38202247],\n",
       "       [ 8.47191011,  8.56179775,  8.65168539,  8.74157303,  8.83146067,\n",
       "         8.92134831,  9.01123596,  9.1011236 ,  9.19101124],\n",
       "       [ 9.28089888,  9.37078652,  9.46067416,  9.5505618 ,  9.64044944,\n",
       "         9.73033708,  9.82022472,  9.91011236, 10.        ]])"
      ]
     },
     "execution_count": 43,
     "metadata": {},
     "output_type": "execute_result"
    }
   ],
   "source": [
    "arr = np.linspace(2, 10, 90)\n",
    "\n",
    "# arr.reshape(9, -1)\n",
    "\n",
    "# arr.reshape(10, -1)\n",
    "\n",
    "arr.shape = 10, -10\n",
    "\n",
    "arr"
   ]
  },
  {
   "cell_type": "code",
   "execution_count": 45,
   "id": "2a45aa88",
   "metadata": {
    "ExecuteTime": {
     "end_time": "2021-06-14T03:05:37.404237Z",
     "start_time": "2021-06-14T03:05:37.391279Z"
    }
   },
   "outputs": [
    {
     "data": {
      "text/plain": [
       "array([[ 2.        ,  2.80898876,  3.61797753,  4.42696629,  5.23595506,\n",
       "         6.04494382,  6.85393258,  7.66292135,  8.47191011,  9.28089888],\n",
       "       [ 2.08988764,  2.8988764 ,  3.70786517,  4.51685393,  5.3258427 ,\n",
       "         6.13483146,  6.94382022,  7.75280899,  8.56179775,  9.37078652],\n",
       "       [ 2.17977528,  2.98876404,  3.79775281,  4.60674157,  5.41573034,\n",
       "         6.2247191 ,  7.03370787,  7.84269663,  8.65168539,  9.46067416],\n",
       "       [ 2.26966292,  3.07865169,  3.88764045,  4.69662921,  5.50561798,\n",
       "         6.31460674,  7.12359551,  7.93258427,  8.74157303,  9.5505618 ],\n",
       "       [ 2.35955056,  3.16853933,  3.97752809,  4.78651685,  5.59550562,\n",
       "         6.40449438,  7.21348315,  8.02247191,  8.83146067,  9.64044944],\n",
       "       [ 2.4494382 ,  3.25842697,  4.06741573,  4.87640449,  5.68539326,\n",
       "         6.49438202,  7.30337079,  8.11235955,  8.92134831,  9.73033708],\n",
       "       [ 2.53932584,  3.34831461,  4.15730337,  4.96629213,  5.7752809 ,\n",
       "         6.58426966,  7.39325843,  8.20224719,  9.01123596,  9.82022472],\n",
       "       [ 2.62921348,  3.43820225,  4.24719101,  5.05617978,  5.86516854,\n",
       "         6.6741573 ,  7.48314607,  8.29213483,  9.1011236 ,  9.91011236],\n",
       "       [ 2.71910112,  3.52808989,  4.33707865,  5.14606742,  5.95505618,\n",
       "         6.76404494,  7.57303371,  8.38202247,  9.19101124, 10.        ]])"
      ]
     },
     "execution_count": 45,
     "metadata": {},
     "output_type": "execute_result"
    }
   ],
   "source": [
    "# Transpose - converts rows to columns and columns to rows\n",
    "\n",
    "arr.T\n"
   ]
  },
  {
   "cell_type": "code",
   "execution_count": 46,
   "id": "bbefd016",
   "metadata": {
    "ExecuteTime": {
     "end_time": "2021-06-14T03:05:59.104798Z",
     "start_time": "2021-06-14T03:05:59.093643Z"
    }
   },
   "outputs": [
    {
     "data": {
      "text/plain": [
       "array([[ 2.        ,  2.08988764,  2.17977528,  2.26966292,  2.35955056,\n",
       "         2.4494382 ,  2.53932584,  2.62921348,  2.71910112],\n",
       "       [ 2.80898876,  2.8988764 ,  2.98876404,  3.07865169,  3.16853933,\n",
       "         3.25842697,  3.34831461,  3.43820225,  3.52808989],\n",
       "       [ 3.61797753,  3.70786517,  3.79775281,  3.88764045,  3.97752809,\n",
       "         4.06741573,  4.15730337,  4.24719101,  4.33707865],\n",
       "       [ 4.42696629,  4.51685393,  4.60674157,  4.69662921,  4.78651685,\n",
       "         4.87640449,  4.96629213,  5.05617978,  5.14606742],\n",
       "       [ 5.23595506,  5.3258427 ,  5.41573034,  5.50561798,  5.59550562,\n",
       "         5.68539326,  5.7752809 ,  5.86516854,  5.95505618],\n",
       "       [ 6.04494382,  6.13483146,  6.2247191 ,  6.31460674,  6.40449438,\n",
       "         6.49438202,  6.58426966,  6.6741573 ,  6.76404494],\n",
       "       [ 6.85393258,  6.94382022,  7.03370787,  7.12359551,  7.21348315,\n",
       "         7.30337079,  7.39325843,  7.48314607,  7.57303371],\n",
       "       [ 7.66292135,  7.75280899,  7.84269663,  7.93258427,  8.02247191,\n",
       "         8.11235955,  8.20224719,  8.29213483,  8.38202247],\n",
       "       [ 8.47191011,  8.56179775,  8.65168539,  8.74157303,  8.83146067,\n",
       "         8.92134831,  9.01123596,  9.1011236 ,  9.19101124],\n",
       "       [ 9.28089888,  9.37078652,  9.46067416,  9.5505618 ,  9.64044944,\n",
       "         9.73033708,  9.82022472,  9.91011236, 10.        ]])"
      ]
     },
     "execution_count": 46,
     "metadata": {},
     "output_type": "execute_result"
    }
   ],
   "source": [
    "arr"
   ]
  },
  {
   "cell_type": "code",
   "execution_count": 47,
   "id": "2f3c226a",
   "metadata": {
    "ExecuteTime": {
     "end_time": "2021-06-14T03:06:25.085708Z",
     "start_time": "2021-06-14T03:06:25.073625Z"
    }
   },
   "outputs": [
    {
     "data": {
      "text/plain": [
       "array([ 2.        ,  2.08988764,  2.17977528,  2.26966292,  2.35955056,\n",
       "        2.4494382 ,  2.53932584,  2.62921348,  2.71910112,  2.80898876,\n",
       "        2.8988764 ,  2.98876404,  3.07865169,  3.16853933,  3.25842697,\n",
       "        3.34831461,  3.43820225,  3.52808989,  3.61797753,  3.70786517,\n",
       "        3.79775281,  3.88764045,  3.97752809,  4.06741573,  4.15730337,\n",
       "        4.24719101,  4.33707865,  4.42696629,  4.51685393,  4.60674157,\n",
       "        4.69662921,  4.78651685,  4.87640449,  4.96629213,  5.05617978,\n",
       "        5.14606742,  5.23595506,  5.3258427 ,  5.41573034,  5.50561798,\n",
       "        5.59550562,  5.68539326,  5.7752809 ,  5.86516854,  5.95505618,\n",
       "        6.04494382,  6.13483146,  6.2247191 ,  6.31460674,  6.40449438,\n",
       "        6.49438202,  6.58426966,  6.6741573 ,  6.76404494,  6.85393258,\n",
       "        6.94382022,  7.03370787,  7.12359551,  7.21348315,  7.30337079,\n",
       "        7.39325843,  7.48314607,  7.57303371,  7.66292135,  7.75280899,\n",
       "        7.84269663,  7.93258427,  8.02247191,  8.11235955,  8.20224719,\n",
       "        8.29213483,  8.38202247,  8.47191011,  8.56179775,  8.65168539,\n",
       "        8.74157303,  8.83146067,  8.92134831,  9.01123596,  9.1011236 ,\n",
       "        9.19101124,  9.28089888,  9.37078652,  9.46067416,  9.5505618 ,\n",
       "        9.64044944,  9.73033708,  9.82022472,  9.91011236, 10.        ])"
      ]
     },
     "execution_count": 47,
     "metadata": {},
     "output_type": "execute_result"
    }
   ],
   "source": [
    "# To convert an arry of higher tdimension to one dimension\n",
    "arr.ravel()"
   ]
  },
  {
   "cell_type": "code",
   "execution_count": 48,
   "id": "87d7e6c2",
   "metadata": {
    "ExecuteTime": {
     "end_time": "2021-06-14T03:08:37.437281Z",
     "start_time": "2021-06-14T03:08:37.431817Z"
    }
   },
   "outputs": [
    {
     "name": "stdout",
     "output_type": "stream",
     "text": [
      "[ 1  2  3  4  5  6  7  8  9 10]\n"
     ]
    }
   ],
   "source": [
    "# Ordersing = \n",
    "#     1. C like ordering - 'C'\n",
    "#     2. Forton Like ordering - 'F'\n",
    "\n",
    "arr1 = np.arange(1, 11)\n",
    "print(arr1)\n"
   ]
  },
  {
   "cell_type": "code",
   "execution_count": 50,
   "id": "f2020506",
   "metadata": {
    "ExecuteTime": {
     "end_time": "2021-06-14T03:09:30.175900Z",
     "start_time": "2021-06-14T03:09:30.167715Z"
    }
   },
   "outputs": [
    {
     "data": {
      "text/plain": [
       "array([[ 1,  2,  3,  4,  5],\n",
       "       [ 6,  7,  8,  9, 10]])"
      ]
     },
     "execution_count": 50,
     "metadata": {},
     "output_type": "execute_result"
    }
   ],
   "source": [
    "arr1.reshape((2, 5), order ='C')"
   ]
  },
  {
   "cell_type": "code",
   "execution_count": 51,
   "id": "9827eac5",
   "metadata": {
    "ExecuteTime": {
     "end_time": "2021-06-14T03:10:00.442181Z",
     "start_time": "2021-06-14T03:10:00.430715Z"
    }
   },
   "outputs": [
    {
     "data": {
      "text/plain": [
       "array([[ 1,  3,  5,  7,  9],\n",
       "       [ 2,  4,  6,  8, 10]])"
      ]
     },
     "execution_count": 51,
     "metadata": {},
     "output_type": "execute_result"
    }
   ],
   "source": [
    "arr1.reshape((2, 5), order ='F')"
   ]
  },
  {
   "cell_type": "markdown",
   "id": "67b52494",
   "metadata": {},
   "source": [
    "# Operations on an array\n",
    "        - Arithmetic Operation\n",
    "        - Comparions\n",
    "        - Equality \n",
    "\n",
    "\n",
    "\n",
    "\n",
    "\n"
   ]
  },
  {
   "cell_type": "code",
   "execution_count": 54,
   "id": "ec1a3c55",
   "metadata": {
    "ExecuteTime": {
     "end_time": "2021-06-14T03:13:05.198803Z",
     "start_time": "2021-06-14T03:13:05.189720Z"
    }
   },
   "outputs": [
    {
     "name": "stdout",
     "output_type": "stream",
     "text": [
      "[ 21  42  63  84 105]\n",
      "[-1 -2 -3 -4 -5]\n",
      "[ 110  440  990 1760 2750]\n"
     ]
    }
   ],
   "source": [
    "arr1 = np.array([10,20,30,40,50])\n",
    "arr2 = np.array([11,22,33,44,55])\n",
    "\n",
    "print(arr1+arr2)\n",
    "\n",
    "print(arr1-arr2)\n",
    "\n",
    "print(arr1*arr2)    # Scalar product\n",
    "\n",
    "\n",
    "\n"
   ]
  },
  {
   "cell_type": "code",
   "execution_count": 56,
   "id": "538424e9",
   "metadata": {
    "ExecuteTime": {
     "end_time": "2021-06-14T03:14:27.119493Z",
     "start_time": "2021-06-14T03:14:27.110132Z"
    }
   },
   "outputs": [
    {
     "name": "stdout",
     "output_type": "stream",
     "text": [
      "[ 40  80 120 160 200]\n",
      "[ 110  440  990 1760 2750]\n"
     ]
    }
   ],
   "source": [
    "# Product\n",
    "#     1. Scalar\n",
    "#     2. Vector - np.dot(arr1, arr2)\n",
    "        # 1. No of col in first array and no of row in 2nd array should be same\n",
    "        # 2. shape of resultant aray is (no of rows of 1st Array X no of cols of 2nd array)\n",
    "\n",
    "\n",
    "# print(arr1*4)\n",
    "# print(arr1*arr2)\n",
    "\n",
    "\n"
   ]
  },
  {
   "cell_type": "code",
   "execution_count": 67,
   "id": "c998156a",
   "metadata": {
    "ExecuteTime": {
     "end_time": "2021-06-14T03:25:01.570589Z",
     "start_time": "2021-06-14T03:25:01.563410Z"
    }
   },
   "outputs": [
    {
     "name": "stdout",
     "output_type": "stream",
     "text": [
      "[[ 6 12 18 24 30]\n",
      " [ 7 14 21 28 35]\n",
      " [ 8 16 24 32 40]\n",
      " [ 9 18 27 36 45]\n",
      " [10 20 30 40 50]]\n"
     ]
    }
   ],
   "source": [
    "arr1 = np.array([[1, 2, 3, 4, 5]])\n",
    "\n",
    "\n",
    "arr2 = np.array([[6],\n",
    "                 [7],\n",
    "                 [8],\n",
    "                 [9],\n",
    "                 [10]])\n",
    "\n",
    "print(arr1*arr2)\n",
    "\n"
   ]
  },
  {
   "cell_type": "code",
   "execution_count": null,
   "id": "f462e57c",
   "metadata": {},
   "outputs": [],
   "source": [
    "[[1, 2, 3, 4, 5],\n",
    " [1, 2, 3, 4, 5],\n",
    " [1, 2, 3, 4, 5],\n",
    " [1, 2, 3, 4, 5],\n",
    " [1, 2, 3, 4, 5]]\n",
    "\n",
    "[[6, 6, 6, 6, 6],\n",
    " [7, 7, 7, 7, 7],\n",
    " [8, 8, 8, 8, 8],\n",
    " [9, 9, 9, 9, 9],\n",
    " [10,10,10,10,10]]"
   ]
  },
  {
   "cell_type": "code",
   "execution_count": null,
   "id": "6e6b5c6e",
   "metadata": {},
   "outputs": [],
   "source": [
    "np.dot()"
   ]
  },
  {
   "cell_type": "code",
   "execution_count": 64,
   "id": "39010c36",
   "metadata": {
    "ExecuteTime": {
     "end_time": "2021-06-14T03:22:41.445441Z",
     "start_time": "2021-06-14T03:22:41.431929Z"
    }
   },
   "outputs": [
    {
     "ename": "ValueError",
     "evalue": "operands could not be broadcast together with shapes (5,6) (6,6) ",
     "output_type": "error",
     "traceback": [
      "\u001b[0;31m---------------------------------------------------------------------------\u001b[0m",
      "\u001b[0;31mValueError\u001b[0m                                Traceback (most recent call last)",
      "\u001b[0;32m<ipython-input-64-34247d53a456>\u001b[0m in \u001b[0;36m<module>\u001b[0;34m\u001b[0m\n\u001b[1;32m      5\u001b[0m \u001b[0marr2\u001b[0m\u001b[0;34m\u001b[0m\u001b[0;34m\u001b[0m\u001b[0m\n\u001b[1;32m      6\u001b[0m \u001b[0;34m\u001b[0m\u001b[0m\n\u001b[0;32m----> 7\u001b[0;31m \u001b[0mprint\u001b[0m\u001b[0;34m(\u001b[0m\u001b[0marr1\u001b[0m\u001b[0;34m*\u001b[0m\u001b[0marr2\u001b[0m\u001b[0;34m)\u001b[0m\u001b[0;34m\u001b[0m\u001b[0;34m\u001b[0m\u001b[0m\n\u001b[0m",
      "\u001b[0;31mValueError\u001b[0m: operands could not be broadcast together with shapes (5,6) (6,6) "
     ]
    }
   ],
   "source": [
    "arr1 = np.arange(25, 55).reshape(5, 6)\n",
    "arr1\n",
    "\n",
    "arr2 = np.arange(25, 61).reshape(6, 6)\n",
    "arr2\n",
    "\n",
    "print(arr1*arr2)"
   ]
  },
  {
   "cell_type": "code",
   "execution_count": 68,
   "id": "83b3f6ac",
   "metadata": {
    "ExecuteTime": {
     "end_time": "2021-06-14T03:25:03.759886Z",
     "start_time": "2021-06-14T03:25:03.748898Z"
    }
   },
   "outputs": [
    {
     "data": {
      "text/plain": [
       "array([[130]])"
      ]
     },
     "execution_count": 68,
     "metadata": {},
     "output_type": "execute_result"
    }
   ],
   "source": [
    "np.dot(arr1, arr2)"
   ]
  },
  {
   "cell_type": "code",
   "execution_count": 72,
   "id": "ad6a238e",
   "metadata": {
    "ExecuteTime": {
     "end_time": "2021-06-14T03:30:12.252740Z",
     "start_time": "2021-06-14T03:30:12.244126Z"
    }
   },
   "outputs": [
    {
     "name": "stdout",
     "output_type": "stream",
     "text": [
      "[[ 50  40 120]\n",
      " [146 120 304]]\n"
     ]
    }
   ],
   "source": [
    "arr3 = np.array([[1, 2, 3, 4],\n",
    "                 [5, 6, 7, 8 ]])\n",
    "\n",
    "arr4 = np.array([[9,8, 10],\n",
    "                 [7,6, 11],\n",
    "                 [5,4, 12],\n",
    "                 [3,2, 13]])\n",
    "\n",
    "print(np.dot(arr3, arr4))"
   ]
  },
  {
   "cell_type": "code",
   "execution_count": 74,
   "id": "422838f7",
   "metadata": {
    "ExecuteTime": {
     "end_time": "2021-06-14T03:32:29.547220Z",
     "start_time": "2021-06-14T03:32:29.540641Z"
    }
   },
   "outputs": [],
   "source": [
    "# Comparison operation\n",
    "# Returns a boolean matrix\n",
    "\n",
    "arr1 = np.arange(25, 55).reshape(5, 6)\n",
    "np.random.shuffle(arr1)\n"
   ]
  },
  {
   "cell_type": "code",
   "execution_count": 75,
   "id": "b0d7cf31",
   "metadata": {
    "ExecuteTime": {
     "end_time": "2021-06-14T03:32:30.635232Z",
     "start_time": "2021-06-14T03:32:30.625597Z"
    }
   },
   "outputs": [
    {
     "data": {
      "text/plain": [
       "array([[25, 26, 27, 28, 29, 30],\n",
       "       [43, 44, 45, 46, 47, 48],\n",
       "       [37, 38, 39, 40, 41, 42],\n",
       "       [31, 32, 33, 34, 35, 36],\n",
       "       [49, 50, 51, 52, 53, 54]])"
      ]
     },
     "execution_count": 75,
     "metadata": {},
     "output_type": "execute_result"
    }
   ],
   "source": [
    "arr1"
   ]
  },
  {
   "cell_type": "code",
   "execution_count": 77,
   "id": "db416046",
   "metadata": {
    "ExecuteTime": {
     "end_time": "2021-06-14T03:33:51.089710Z",
     "start_time": "2021-06-14T03:33:51.076804Z"
    }
   },
   "outputs": [
    {
     "data": {
      "text/plain": [
       "array([43, 44, 45, 46, 47, 48, 41, 42, 49, 50, 51, 52, 53, 54])"
      ]
     },
     "execution_count": 77,
     "metadata": {},
     "output_type": "execute_result"
    }
   ],
   "source": [
    "arr1[arr1>40]"
   ]
  },
  {
   "cell_type": "code",
   "execution_count": 78,
   "id": "2bf8c7b6",
   "metadata": {
    "ExecuteTime": {
     "end_time": "2021-06-14T03:36:46.658867Z",
     "start_time": "2021-06-14T03:36:46.644458Z"
    }
   },
   "outputs": [
    {
     "data": {
      "text/plain": [
       "array([[ 9, 27, 31, 74, 47, 20],\n",
       "       [28, 32, 25, 70, 34, 98],\n",
       "       [89, 10, 19, 30, 73,  9],\n",
       "       [27, 69, 75, 82,  8, 67],\n",
       "       [61, 60, 61, 30, 27, 43]])"
      ]
     },
     "execution_count": 78,
     "metadata": {},
     "output_type": "execute_result"
    }
   ],
   "source": [
    "arr1 = np.random.randint(1, 100, (5, 6))\n",
    "arr1"
   ]
  },
  {
   "cell_type": "code",
   "execution_count": 79,
   "id": "00da3132",
   "metadata": {
    "ExecuteTime": {
     "end_time": "2021-06-14T03:36:55.331740Z",
     "start_time": "2021-06-14T03:36:55.323579Z"
    }
   },
   "outputs": [
    {
     "data": {
      "text/plain": [
       "array([[10, 88, 45,  4, 85, 60],\n",
       "       [61, 58, 87, 72, 50, 11],\n",
       "       [94, 84, 45, 10, 57, 42],\n",
       "       [80, 79, 31, 35, 65, 61],\n",
       "       [59, 41, 16, 36, 81, 58]])"
      ]
     },
     "execution_count": 79,
     "metadata": {},
     "output_type": "execute_result"
    }
   ],
   "source": [
    "arr2 = np.random.randint(1, 100, (5, 6))\n",
    "arr2"
   ]
  },
  {
   "cell_type": "code",
   "execution_count": 81,
   "id": "22cb9403",
   "metadata": {
    "ExecuteTime": {
     "end_time": "2021-06-14T03:37:11.695438Z",
     "start_time": "2021-06-14T03:37:11.685576Z"
    }
   },
   "outputs": [
    {
     "data": {
      "text/plain": [
       "array([[False, False, False,  True, False, False],\n",
       "       [False, False, False, False, False,  True],\n",
       "       [False, False, False,  True,  True, False],\n",
       "       [False, False,  True,  True, False,  True],\n",
       "       [ True,  True,  True, False, False, False]])"
      ]
     },
     "execution_count": 81,
     "metadata": {},
     "output_type": "execute_result"
    }
   ],
   "source": [
    "arr1 > arr2"
   ]
  },
  {
   "cell_type": "code",
   "execution_count": 90,
   "id": "b7df8885",
   "metadata": {
    "ExecuteTime": {
     "end_time": "2021-06-14T03:42:12.830446Z",
     "start_time": "2021-06-14T03:42:12.819823Z"
    }
   },
   "outputs": [
    {
     "data": {
      "text/plain": [
       "518"
      ]
     },
     "execution_count": 90,
     "metadata": {},
     "output_type": "execute_result"
    }
   ],
   "source": [
    "# Compound assignment operation\n",
    "\n",
    "# arr1 += arr2\n",
    "# arr1\n",
    "\n",
    "\n",
    "19+89+183+107+120"
   ]
  },
  {
   "cell_type": "code",
   "execution_count": 84,
   "id": "e359e8b4",
   "metadata": {
    "ExecuteTime": {
     "end_time": "2021-06-14T03:40:18.513990Z",
     "start_time": "2021-06-14T03:40:18.500145Z"
    }
   },
   "outputs": [
    {
     "data": {
      "text/plain": [
       "2940"
      ]
     },
     "execution_count": 84,
     "metadata": {},
     "output_type": "execute_result"
    }
   ],
   "source": [
    "# Unary Operations\n",
    "\n",
    "np.sum(arr1)\n",
    "\n"
   ]
  },
  {
   "cell_type": "code",
   "execution_count": 85,
   "id": "5f794acb",
   "metadata": {
    "ExecuteTime": {
     "end_time": "2021-06-14T03:40:27.415168Z",
     "start_time": "2021-06-14T03:40:27.406365Z"
    }
   },
   "outputs": [
    {
     "data": {
      "text/plain": [
       "183"
      ]
     },
     "execution_count": 85,
     "metadata": {},
     "output_type": "execute_result"
    }
   ],
   "source": [
    "np.max(arr1)"
   ]
  },
  {
   "cell_type": "code",
   "execution_count": 86,
   "id": "404def76",
   "metadata": {
    "ExecuteTime": {
     "end_time": "2021-06-14T03:40:34.495859Z",
     "start_time": "2021-06-14T03:40:34.489261Z"
    }
   },
   "outputs": [
    {
     "data": {
      "text/plain": [
       "19"
      ]
     },
     "execution_count": 86,
     "metadata": {},
     "output_type": "execute_result"
    }
   ],
   "source": [
    "np.min(arr1)"
   ]
  },
  {
   "cell_type": "code",
   "execution_count": 91,
   "id": "0938a5bd",
   "metadata": {
    "ExecuteTime": {
     "end_time": "2021-06-14T03:42:26.968430Z",
     "start_time": "2021-06-14T03:42:26.958271Z"
    }
   },
   "outputs": [
    {
     "data": {
      "text/plain": [
       "array([[ 19, 115,  76,  78, 132,  80],\n",
       "       [ 89,  90, 112, 142,  84, 109],\n",
       "       [183,  94,  64,  40, 130,  51],\n",
       "       [107, 148, 106, 117,  73, 128],\n",
       "       [120, 101,  77,  66, 108, 101]])"
      ]
     },
     "execution_count": 91,
     "metadata": {},
     "output_type": "execute_result"
    }
   ],
   "source": [
    "arr1"
   ]
  },
  {
   "cell_type": "code",
   "execution_count": 88,
   "id": "9ae293d5",
   "metadata": {
    "ExecuteTime": {
     "end_time": "2021-06-14T03:41:42.468944Z",
     "start_time": "2021-06-14T03:41:42.456264Z"
    }
   },
   "outputs": [
    {
     "data": {
      "text/plain": [
       "array([518, 548, 435, 443, 527, 469])"
      ]
     },
     "execution_count": 88,
     "metadata": {},
     "output_type": "execute_result"
    }
   ],
   "source": [
    "# Sum of all the elements along rows and columns\n",
    "\n",
    "# Along rows\n",
    "np.sum(arr1, axis = 0)\n",
    "\n"
   ]
  },
  {
   "cell_type": "code",
   "execution_count": 89,
   "id": "27dbe09b",
   "metadata": {
    "ExecuteTime": {
     "end_time": "2021-06-14T03:41:48.625946Z",
     "start_time": "2021-06-14T03:41:48.612627Z"
    }
   },
   "outputs": [
    {
     "data": {
      "text/plain": [
       "array([500, 626, 562, 679, 573])"
      ]
     },
     "execution_count": 89,
     "metadata": {},
     "output_type": "execute_result"
    }
   ],
   "source": [
    "# Along columns\n",
    "np.sum(arr1, axis = 1)"
   ]
  },
  {
   "cell_type": "code",
   "execution_count": 93,
   "id": "2dab1da2",
   "metadata": {
    "ExecuteTime": {
     "end_time": "2021-06-14T03:45:42.585030Z",
     "start_time": "2021-06-14T03:45:42.569070Z"
    }
   },
   "outputs": [
    {
     "data": {
      "text/plain": [
       "array([183, 148, 112, 142, 132, 128])"
      ]
     },
     "execution_count": 93,
     "metadata": {},
     "output_type": "execute_result"
    }
   ],
   "source": [
    "np.max(arr1, axis = 0)\n"
   ]
  },
  {
   "cell_type": "code",
   "execution_count": 94,
   "id": "52589d8b",
   "metadata": {
    "ExecuteTime": {
     "end_time": "2021-06-14T03:45:43.573208Z",
     "start_time": "2021-06-14T03:45:43.565422Z"
    }
   },
   "outputs": [
    {
     "data": {
      "text/plain": [
       "array([132, 142, 183, 148, 120])"
      ]
     },
     "execution_count": 94,
     "metadata": {},
     "output_type": "execute_result"
    }
   ],
   "source": [
    "np.max(arr1, axis = 1)"
   ]
  },
  {
   "cell_type": "code",
   "execution_count": 98,
   "id": "92c01b4e",
   "metadata": {
    "ExecuteTime": {
     "end_time": "2021-06-14T03:48:27.090707Z",
     "start_time": "2021-06-14T03:48:27.082836Z"
    }
   },
   "outputs": [
    {
     "name": "stdout",
     "output_type": "stream",
     "text": [
      "[3 4 5 6]\n",
      "[1 2 3 4 5 6 7 8 9]\n"
     ]
    }
   ],
   "source": [
    "# INdexing and slicing on numpy array\n",
    "\n",
    "arr1 = np.array([1,2,3,4,5,6,7,8,9])\n",
    "# print(arr1[0])\n",
    "# print(arr1[-1])\n",
    "\n",
    "print(arr1[2:6])\n",
    "print(arr1)\n",
    "\n",
    "\n",
    "\n"
   ]
  },
  {
   "cell_type": "code",
   "execution_count": 104,
   "id": "b3c8da98",
   "metadata": {
    "ExecuteTime": {
     "end_time": "2021-06-14T03:51:12.390977Z",
     "start_time": "2021-06-14T03:51:12.378963Z"
    }
   },
   "outputs": [
    {
     "data": {
      "text/plain": [
       "array([[56, 38, 73, 75, 29, 82],\n",
       "       [31, 11, 49, 74, 35, 91],\n",
       "       [28, 50, 35, 54, 35, 24],\n",
       "       [76, 60, 56, 48,  7, 77],\n",
       "       [18, 41, 40, 44, 28,  2],\n",
       "       [70, 38, 68, 72, 71, 90]])"
      ]
     },
     "execution_count": 104,
     "metadata": {},
     "output_type": "execute_result"
    }
   ],
   "source": [
    "arr1 = np.random.randint(1, 100, (6, 6))\n",
    "arr1\n",
    "\n",
    "\n",
    "# Indexing on. 2D array\n",
    "# arr_name[row_ind, col_ind]\n",
    "# arr_name[row_Slicing, col_slicing]"
   ]
  },
  {
   "cell_type": "code",
   "execution_count": 103,
   "id": "0b67507d",
   "metadata": {
    "ExecuteTime": {
     "end_time": "2021-06-14T03:50:31.653263Z",
     "start_time": "2021-06-14T03:50:31.641492Z"
    }
   },
   "outputs": [
    {
     "name": "stdout",
     "output_type": "stream",
     "text": [
      "[51 41  6 64 78 90]\n",
      "[86 70 90 23  4 93]\n"
     ]
    }
   ],
   "source": [
    "# Accessing one row\n",
    "print(arr1[0])\n",
    "print(arr1[-1])"
   ]
  },
  {
   "cell_type": "code",
   "execution_count": 105,
   "id": "b30556da",
   "metadata": {
    "ExecuteTime": {
     "end_time": "2021-06-14T03:51:15.813800Z",
     "start_time": "2021-06-14T03:51:15.808307Z"
    }
   },
   "outputs": [
    {
     "name": "stdout",
     "output_type": "stream",
     "text": [
      "56\n"
     ]
    }
   ],
   "source": [
    "print(arr1[0][0])"
   ]
  },
  {
   "cell_type": "code",
   "execution_count": 107,
   "id": "bbac81f0",
   "metadata": {
    "ExecuteTime": {
     "end_time": "2021-06-14T03:51:44.797866Z",
     "start_time": "2021-06-14T03:51:44.792925Z"
    }
   },
   "outputs": [
    {
     "name": "stdout",
     "output_type": "stream",
     "text": [
      "[56 31 28 76 18 70]\n"
     ]
    }
   ],
   "source": [
    "# Accessing a column\n",
    "\n",
    "print(arr1[::, 0])"
   ]
  },
  {
   "cell_type": "code",
   "execution_count": 109,
   "id": "a42780d2",
   "metadata": {
    "ExecuteTime": {
     "end_time": "2021-06-14T03:52:16.072395Z",
     "start_time": "2021-06-14T03:52:16.064694Z"
    }
   },
   "outputs": [
    {
     "name": "stdout",
     "output_type": "stream",
     "text": [
      "[82 91 24 77  2 90]\n"
     ]
    }
   ],
   "source": [
    "# Accessing a column\n",
    "print(arr1[::, -1])"
   ]
  },
  {
   "cell_type": "code",
   "execution_count": 110,
   "id": "bc386fc7",
   "metadata": {
    "ExecuteTime": {
     "end_time": "2021-06-14T03:53:01.808663Z",
     "start_time": "2021-06-14T03:53:01.799899Z"
    }
   },
   "outputs": [
    {
     "name": "stdout",
     "output_type": "stream",
     "text": [
      "35\n"
     ]
    }
   ],
   "source": [
    "print(arr1[2, 2])"
   ]
  },
  {
   "cell_type": "code",
   "execution_count": 111,
   "id": "ae75cca0",
   "metadata": {
    "ExecuteTime": {
     "end_time": "2021-06-14T03:53:22.773844Z",
     "start_time": "2021-06-14T03:53:22.763498Z"
    }
   },
   "outputs": [
    {
     "data": {
      "text/plain": [
       "array([[56, 38, 73, 75, 29, 82],\n",
       "       [31, 11, 49, 74, 35, 91],\n",
       "       [28, 50, 35, 54, 35, 24],\n",
       "       [76, 60, 56, 48,  7, 77],\n",
       "       [18, 41, 40, 44, 28,  2],\n",
       "       [70, 38, 68, 72, 71, 90]])"
      ]
     },
     "execution_count": 111,
     "metadata": {},
     "output_type": "execute_result"
    }
   ],
   "source": [
    "arr1"
   ]
  },
  {
   "cell_type": "code",
   "execution_count": 112,
   "id": "1b846f8a",
   "metadata": {
    "ExecuteTime": {
     "end_time": "2021-06-14T03:53:32.079089Z",
     "start_time": "2021-06-14T03:53:32.071914Z"
    }
   },
   "outputs": [
    {
     "name": "stdout",
     "output_type": "stream",
     "text": [
      "[[31 11 49 74 35 91]\n",
      " [76 60 56 48  7 77]\n",
      " [70 38 68 72 71 90]]\n"
     ]
    }
   ],
   "source": [
    "print(arr1[1::2])"
   ]
  },
  {
   "cell_type": "code",
   "execution_count": 113,
   "id": "065f4492",
   "metadata": {
    "ExecuteTime": {
     "end_time": "2021-06-14T03:54:50.113495Z",
     "start_time": "2021-06-14T03:54:50.103305Z"
    }
   },
   "outputs": [
    {
     "name": "stdout",
     "output_type": "stream",
     "text": [
      "[[38 75 82]\n",
      " [11 74 91]\n",
      " [50 54 24]\n",
      " [60 48 77]\n",
      " [41 44  2]\n",
      " [38 72 90]]\n"
     ]
    }
   ],
   "source": [
    "print(arr1[::,1::2])"
   ]
  },
  {
   "cell_type": "code",
   "execution_count": 114,
   "id": "e70f0f05",
   "metadata": {
    "ExecuteTime": {
     "end_time": "2021-06-14T03:55:46.791044Z",
     "start_time": "2021-06-14T03:55:46.778573Z"
    }
   },
   "outputs": [
    {
     "name": "stdout",
     "output_type": "stream",
     "text": [
      "[[48  7 77]\n",
      " [44 28  2]\n",
      " [72 71 90]]\n"
     ]
    }
   ],
   "source": [
    "print(arr1[3::, 3::])"
   ]
  },
  {
   "cell_type": "code",
   "execution_count": 115,
   "id": "d24df8b7",
   "metadata": {
    "ExecuteTime": {
     "end_time": "2021-06-14T03:57:24.918306Z",
     "start_time": "2021-06-14T03:57:24.910360Z"
    }
   },
   "outputs": [
    {
     "name": "stdout",
     "output_type": "stream",
     "text": [
      "[[11 74]\n",
      " [60 48]]\n"
     ]
    }
   ],
   "source": [
    "print(arr1[1:4:2, 1:4:2])"
   ]
  },
  {
   "cell_type": "code",
   "execution_count": 117,
   "id": "112cd63e",
   "metadata": {
    "ExecuteTime": {
     "end_time": "2021-06-14T03:58:41.054699Z",
     "start_time": "2021-06-14T03:58:41.044101Z"
    }
   },
   "outputs": [
    {
     "data": {
      "text/plain": [
       "array([[56, 38, 73, 75, 29, 82],\n",
       "       [31, 11, 49, 74, 35, 91],\n",
       "       [28, 50, 35, 54, 35, 24],\n",
       "       [76, 60, 56, 48,  7, 77],\n",
       "       [18, 41, 40, 44, 28,  2],\n",
       "       [70, 38, 68, 72, 71, 90]])"
      ]
     },
     "execution_count": 117,
     "metadata": {},
     "output_type": "execute_result"
    }
   ],
   "source": [
    "arr1"
   ]
  },
  {
   "cell_type": "code",
   "execution_count": 120,
   "id": "faff7f4c",
   "metadata": {
    "ExecuteTime": {
     "end_time": "2021-06-14T03:59:57.449208Z",
     "start_time": "2021-06-14T03:59:57.443029Z"
    }
   },
   "outputs": [],
   "source": [
    "row_ind = [[1,2],[3,2]]\n",
    "col_ind = [[2,1],[2,3]]"
   ]
  },
  {
   "cell_type": "code",
   "execution_count": 121,
   "id": "df690d75",
   "metadata": {
    "ExecuteTime": {
     "end_time": "2021-06-14T03:59:58.230488Z",
     "start_time": "2021-06-14T03:59:58.223247Z"
    }
   },
   "outputs": [
    {
     "data": {
      "text/plain": [
       "array([[49, 50],\n",
       "       [56, 54]])"
      ]
     },
     "execution_count": 121,
     "metadata": {},
     "output_type": "execute_result"
    }
   ],
   "source": [
    "arr1[row_ind, col_ind]"
   ]
  },
  {
   "cell_type": "code",
   "execution_count": 126,
   "id": "adba3b13",
   "metadata": {
    "ExecuteTime": {
     "end_time": "2021-06-14T04:02:14.364741Z",
     "start_time": "2021-06-14T04:02:14.355728Z"
    }
   },
   "outputs": [
    {
     "data": {
      "text/plain": [
       "array([[84, 52, 65],\n",
       "       [89, 38, 97]])"
      ]
     },
     "execution_count": 126,
     "metadata": {},
     "output_type": "execute_result"
    }
   ],
   "source": [
    "# 3D array\n",
    "arr1 = np.random.randint(1, 100, (4, 5, 6))\n",
    "arr1[1:3][1][1::2, 1::2]"
   ]
  },
  {
   "cell_type": "code",
   "execution_count": 128,
   "id": "ef5133e3",
   "metadata": {
    "ExecuteTime": {
     "end_time": "2021-06-14T04:03:12.660975Z",
     "start_time": "2021-06-14T04:03:12.653568Z"
    }
   },
   "outputs": [
    {
     "data": {
      "text/plain": [
       "array([[[71, 39, 73, 42,  5, 89],\n",
       "        [60, 58, 52, 42,  1, 65],\n",
       "        [37, 15,  5, 14, 11, 97],\n",
       "        [ 3, 83,  3, 46, 68, 97],\n",
       "        [88, 27, 47, 52, 46, 92],\n",
       "        [96, 13, 36, 37, 46, 85]],\n",
       "\n",
       "       [[66, 90, 12, 96, 26, 32],\n",
       "        [76, 43,  5, 11, 33, 90],\n",
       "        [97, 97,  3, 93, 38, 11],\n",
       "        [77, 61, 98,  7, 74, 16],\n",
       "        [78, 45, 81, 28, 98,  9],\n",
       "        [67, 32, 96, 88, 22, 35]],\n",
       "\n",
       "       [[81, 61, 43, 16, 90, 93],\n",
       "        [64, 51, 31, 52, 94, 46],\n",
       "        [63, 36, 38, 80, 47, 74],\n",
       "        [17, 93, 39,  8, 22, 59],\n",
       "        [88, 91, 42, 88, 36, 74],\n",
       "        [18, 21, 15, 68, 64, 82]],\n",
       "\n",
       "       [[42, 70, 81, 25, 54, 16],\n",
       "        [92, 67,  7, 72, 93, 21],\n",
       "        [49, 22,  3, 18, 66, 50],\n",
       "        [76, 66, 73, 65, 50, 65],\n",
       "        [46, 73, 34, 59, 58, 56],\n",
       "        [42, 10, 85, 29, 82, 57]],\n",
       "\n",
       "       [[49, 83, 26, 71, 89, 68],\n",
       "        [58,  3, 16, 21,  1, 96],\n",
       "        [37, 89, 98, 47, 28, 19],\n",
       "        [56,  9, 50, 23, 28, 34],\n",
       "        [ 9, 62, 39, 22, 79, 29],\n",
       "        [ 8, 47, 11,  9,  1, 20]],\n",
       "\n",
       "       [[ 7, 67, 24, 56, 16, 57],\n",
       "        [59, 90, 49, 69, 68, 38],\n",
       "        [66, 20, 26, 65, 43, 50],\n",
       "        [74, 26, 85, 97, 63, 71],\n",
       "        [93, 96, 95, 61, 52, 92],\n",
       "        [52,  6, 64, 71, 21, 35]]])"
      ]
     },
     "execution_count": 128,
     "metadata": {},
     "output_type": "execute_result"
    }
   ],
   "source": [
    "arr1 = np.random.randint(1, 100, (6, 6, 6))\n",
    "arr1"
   ]
  },
  {
   "cell_type": "code",
   "execution_count": 131,
   "id": "22e41f3e",
   "metadata": {
    "ExecuteTime": {
     "end_time": "2021-06-14T04:04:04.766844Z",
     "start_time": "2021-06-14T04:04:04.758711Z"
    }
   },
   "outputs": [
    {
     "data": {
      "text/plain": [
       "array([[81, 16],\n",
       "       [17,  8]])"
      ]
     },
     "execution_count": 131,
     "metadata": {},
     "output_type": "execute_result"
    }
   ],
   "source": [
    "arr1[::2][1][::3, ::3]"
   ]
  },
  {
   "cell_type": "code",
   "execution_count": 132,
   "id": "eb953f25",
   "metadata": {
    "ExecuteTime": {
     "end_time": "2021-06-14T04:05:09.667282Z",
     "start_time": "2021-06-14T04:05:09.658503Z"
    }
   },
   "outputs": [
    {
     "data": {
      "text/plain": [
       "array([['Banana', 'Mango', 'Guava', 'Avacado'],\n",
       "       ['Papaya', 'Jack fruit', 'Plum', 'Strawberry'],\n",
       "       ['Apricot', 'Apple', 'Blue berry', 'Black berry']], dtype='<U11')"
      ]
     },
     "execution_count": 132,
     "metadata": {},
     "output_type": "execute_result"
    }
   ],
   "source": [
    "fruit = np.array([[\"Banana\",\"Mango\",\"Guava\",\"Avacado\"],\n",
    "            [\"Papaya\",\"Jack fruit\",\"Plum\",\"Strawberry\"],\n",
    "            [\"Apricot\",\"Apple\",\"Blue berry\",\"Black berry\"]])\n",
    "fruit"
   ]
  },
  {
   "cell_type": "code",
   "execution_count": 133,
   "id": "6469c7d9",
   "metadata": {
    "ExecuteTime": {
     "end_time": "2021-06-14T04:05:15.565091Z",
     "start_time": "2021-06-14T04:05:15.557034Z"
    }
   },
   "outputs": [
    {
     "data": {
      "text/plain": [
       "array([[0, 1],\n",
       "       [1, 2]])"
      ]
     },
     "execution_count": 133,
     "metadata": {},
     "output_type": "execute_result"
    }
   ],
   "source": [
    "k = np.array([[0,1],[1,2]])\n",
    "k"
   ]
  },
  {
   "cell_type": "code",
   "execution_count": 134,
   "id": "5a35c7a1",
   "metadata": {
    "ExecuteTime": {
     "end_time": "2021-06-14T04:05:20.597777Z",
     "start_time": "2021-06-14T04:05:20.582693Z"
    }
   },
   "outputs": [
    {
     "data": {
      "text/plain": [
       "array([[2, 1],\n",
       "       [3, 3]])"
      ]
     },
     "execution_count": 134,
     "metadata": {},
     "output_type": "execute_result"
    }
   ],
   "source": [
    "v = np.array([[2,1],[3,3]])\n",
    "v"
   ]
  },
  {
   "cell_type": "code",
   "execution_count": 136,
   "id": "791748e9",
   "metadata": {
    "ExecuteTime": {
     "end_time": "2021-06-14T04:06:00.116462Z",
     "start_time": "2021-06-14T04:06:00.107527Z"
    }
   },
   "outputs": [],
   "source": [
    "fruit[k, v] = 'Watermelon'"
   ]
  },
  {
   "cell_type": "code",
   "execution_count": 137,
   "id": "bf799a7e",
   "metadata": {
    "ExecuteTime": {
     "end_time": "2021-06-14T04:06:03.059836Z",
     "start_time": "2021-06-14T04:06:03.044842Z"
    }
   },
   "outputs": [
    {
     "data": {
      "text/plain": [
       "array([['Banana', 'Mango', 'Watermelon', 'Avacado'],\n",
       "       ['Papaya', 'Watermelon', 'Plum', 'Watermelon'],\n",
       "       ['Apricot', 'Apple', 'Blue berry', 'Watermelon']], dtype='<U11')"
      ]
     },
     "execution_count": 137,
     "metadata": {},
     "output_type": "execute_result"
    }
   ],
   "source": [
    "fruit"
   ]
  },
  {
   "cell_type": "code",
   "execution_count": 138,
   "id": "5b6c7e97",
   "metadata": {
    "ExecuteTime": {
     "end_time": "2021-06-14T04:06:33.564415Z",
     "start_time": "2021-06-14T04:06:33.546925Z"
    }
   },
   "outputs": [
    {
     "data": {
      "text/plain": [
       "array([[17, 41,  4, 26, 81, 84],\n",
       "       [78, 28, 98, 16, 98, 84],\n",
       "       [94, 82, 73, 93, 62, 81],\n",
       "       [58, 76, 57, 60,  2, 19],\n",
       "       [13,  7, 39, 12, 98,  6],\n",
       "       [96, 49, 51, 92,  8, 99]])"
      ]
     },
     "execution_count": 138,
     "metadata": {},
     "output_type": "execute_result"
    }
   ],
   "source": [
    "arr1 = np.random.randint(1, 100, (6, 6))\n",
    "arr1"
   ]
  },
  {
   "cell_type": "code",
   "execution_count": 139,
   "id": "1ea6b824",
   "metadata": {
    "ExecuteTime": {
     "end_time": "2021-06-14T04:06:52.877708Z",
     "start_time": "2021-06-14T04:06:52.861569Z"
    }
   },
   "outputs": [
    {
     "data": {
      "text/plain": [
       "array([81, 84, 78, 98, 98, 84, 94, 82, 73, 93, 62, 81, 58, 76, 57, 60, 98,\n",
       "       96, 51, 92, 99])"
      ]
     },
     "execution_count": 139,
     "metadata": {},
     "output_type": "execute_result"
    }
   ],
   "source": [
    "arr1[arr1>50]"
   ]
  },
  {
   "cell_type": "code",
   "execution_count": 140,
   "id": "702e7f6c",
   "metadata": {
    "ExecuteTime": {
     "end_time": "2021-06-14T04:07:27.233007Z",
     "start_time": "2021-06-14T04:07:27.217905Z"
    }
   },
   "outputs": [
    {
     "data": {
      "text/plain": [
       "21"
      ]
     },
     "execution_count": 140,
     "metadata": {},
     "output_type": "execute_result"
    }
   ],
   "source": [
    "# How many element which are greater than 50\n",
    "\n",
    "np.sum(arr1>50)\n",
    "\n"
   ]
  },
  {
   "cell_type": "code",
   "execution_count": 141,
   "id": "fda29280",
   "metadata": {
    "ExecuteTime": {
     "end_time": "2021-06-14T04:08:09.316269Z",
     "start_time": "2021-06-14T04:08:09.307760Z"
    }
   },
   "outputs": [
    {
     "data": {
      "text/plain": [
       "True"
      ]
     },
     "execution_count": 141,
     "metadata": {},
     "output_type": "execute_result"
    }
   ],
   "source": [
    "np.any(arr1>50)"
   ]
  },
  {
   "cell_type": "code",
   "execution_count": 142,
   "id": "5d92f6cf",
   "metadata": {
    "ExecuteTime": {
     "end_time": "2021-06-14T04:08:29.698830Z",
     "start_time": "2021-06-14T04:08:29.688089Z"
    }
   },
   "outputs": [
    {
     "data": {
      "text/plain": [
       "False"
      ]
     },
     "execution_count": 142,
     "metadata": {},
     "output_type": "execute_result"
    }
   ],
   "source": [
    "np.all(arr1>50)"
   ]
  },
  {
   "cell_type": "code",
   "execution_count": null,
   "id": "6c7158b7",
   "metadata": {},
   "outputs": [],
   "source": []
  },
  {
   "cell_type": "code",
   "execution_count": null,
   "id": "e2a9946e",
   "metadata": {},
   "outputs": [],
   "source": []
  },
  {
   "cell_type": "code",
   "execution_count": null,
   "id": "340a799b",
   "metadata": {},
   "outputs": [],
   "source": []
  },
  {
   "cell_type": "code",
   "execution_count": null,
   "id": "b7829c32",
   "metadata": {},
   "outputs": [],
   "source": []
  },
  {
   "cell_type": "code",
   "execution_count": null,
   "id": "316705ba",
   "metadata": {},
   "outputs": [],
   "source": []
  },
  {
   "cell_type": "code",
   "execution_count": null,
   "id": "b8069a02",
   "metadata": {},
   "outputs": [],
   "source": []
  },
  {
   "cell_type": "code",
   "execution_count": null,
   "id": "2fb23dfd",
   "metadata": {},
   "outputs": [],
   "source": []
  },
  {
   "cell_type": "code",
   "execution_count": null,
   "id": "53889a7c",
   "metadata": {},
   "outputs": [],
   "source": []
  },
  {
   "cell_type": "code",
   "execution_count": null,
   "id": "5971ad90",
   "metadata": {},
   "outputs": [],
   "source": []
  },
  {
   "cell_type": "code",
   "execution_count": null,
   "id": "2742ab2a",
   "metadata": {},
   "outputs": [],
   "source": []
  },
  {
   "cell_type": "code",
   "execution_count": null,
   "id": "6b7faec4",
   "metadata": {},
   "outputs": [],
   "source": []
  },
  {
   "cell_type": "code",
   "execution_count": null,
   "id": "563b2a8a",
   "metadata": {},
   "outputs": [],
   "source": []
  },
  {
   "cell_type": "code",
   "execution_count": null,
   "id": "914e04d5",
   "metadata": {},
   "outputs": [],
   "source": []
  },
  {
   "cell_type": "code",
   "execution_count": null,
   "id": "4d8173e4",
   "metadata": {},
   "outputs": [],
   "source": []
  },
  {
   "cell_type": "code",
   "execution_count": null,
   "id": "117dff8d",
   "metadata": {},
   "outputs": [],
   "source": []
  },
  {
   "cell_type": "code",
   "execution_count": null,
   "id": "69ed5fae",
   "metadata": {},
   "outputs": [],
   "source": []
  },
  {
   "cell_type": "code",
   "execution_count": null,
   "id": "59f78a69",
   "metadata": {},
   "outputs": [],
   "source": []
  },
  {
   "cell_type": "code",
   "execution_count": null,
   "id": "9201c93d",
   "metadata": {},
   "outputs": [],
   "source": []
  },
  {
   "cell_type": "code",
   "execution_count": null,
   "id": "f7ea9a26",
   "metadata": {},
   "outputs": [],
   "source": []
  },
  {
   "cell_type": "code",
   "execution_count": null,
   "id": "2db62591",
   "metadata": {},
   "outputs": [],
   "source": []
  },
  {
   "cell_type": "code",
   "execution_count": null,
   "id": "f796d9c1",
   "metadata": {},
   "outputs": [],
   "source": []
  }
 ],
 "metadata": {
  "kernelspec": {
   "display_name": "Python 3",
   "language": "python",
   "name": "python3"
  },
  "language_info": {
   "codemirror_mode": {
    "name": "ipython",
    "version": 3
   },
   "file_extension": ".py",
   "mimetype": "text/x-python",
   "name": "python",
   "nbconvert_exporter": "python",
   "pygments_lexer": "ipython3",
   "version": "3.8.2"
  }
 },
 "nbformat": 4,
 "nbformat_minor": 5
}
