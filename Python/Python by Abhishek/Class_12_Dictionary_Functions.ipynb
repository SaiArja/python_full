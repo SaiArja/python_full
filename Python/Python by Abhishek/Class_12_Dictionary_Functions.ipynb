{
 "cells": [
  {
   "cell_type": "code",
   "execution_count": null,
   "id": "36b79aa9",
   "metadata": {},
   "outputs": [],
   "source": [
    "# 'copy', "
   ]
  },
  {
   "cell_type": "code",
   "execution_count": 5,
   "id": "f9a7c706",
   "metadata": {
    "ExecuteTime": {
     "end_time": "2021-06-01T02:48:35.580744Z",
     "start_time": "2021-06-01T02:48:35.574269Z"
    }
   },
   "outputs": [
    {
     "name": "stdout",
     "output_type": "stream",
     "text": [
      "Python\n",
      "Key is not available in the dictionary\n",
      "{10: 100, 10.2: (10+20j), True: None, 'a': 'Python', (1, 2, 3): [10, 20, 30]}\n"
     ]
    }
   ],
   "source": [
    "d = {10:100, 10.20:10+20j, True :None, 'a':'Python', (1,2,3):[10,20,30]}\n",
    "\n",
    "# get(key, default = None)\n",
    "# get(key) -> If key is present thenit will give you the corresponding value else it will retutn None which \n",
    "#                 is default value. It does not make any changes to the dictionary.\n",
    "\n",
    "# print(d.get('a'))\n",
    "# print(d.get('b'))\n",
    "# print(d)\n",
    "\n",
    "\n",
    "# get(key, 'Message') -> If key is present then it will give you the corresponding value else it will retutn \n",
    "#                        Message which you have passed as second Argument. It does not make any changes to \n",
    "#                        the dictionary.\n",
    "\n",
    "print(d.get('a', 'Key is not available in the dictionary'))\n",
    "print(d.get('b', 'Key is not available in the dictionary'))\n",
    "print(d)               \n",
    "\n",
    "\n",
    "\n",
    "\n",
    "\n"
   ]
  },
  {
   "cell_type": "code",
   "execution_count": 10,
   "id": "eb07bf5a",
   "metadata": {
    "ExecuteTime": {
     "end_time": "2021-06-01T02:56:49.066592Z",
     "start_time": "2021-06-01T02:56:49.057657Z"
    }
   },
   "outputs": [
    {
     "name": "stdout",
     "output_type": "stream",
     "text": [
      "333\n",
      "{10: 100, 10.2: (10+20j), True: None, 'a': 'Python', (1, 2, 3): [10, 20, 30], 'b': 333}\n"
     ]
    }
   ],
   "source": [
    "# setdefault(key, default = None)\n",
    "d = {10:100, 10.20:10+20j, True :None, 'a':'Python', (1,2,3):[10,20,30]}\n",
    "# setdefault(key) -> If key is present then it will give you the corresponding value else it will retutn None \n",
    "#                    which is default value and also it creates a key value pair in the dictionary, where key will\n",
    "#                    be \"key\" passed as argument and value will be default which \"None\"\n",
    "\n",
    "\n",
    "# print(d.setdefault('a'))\n",
    "# print(d.setdefault('b'))\n",
    "# print(d)\n",
    "\n",
    "# setdefault(key, 'Message') -> If key is present then it will give you the corresponding value else it will \n",
    "#                               retutn \"Message\" which is default value and also it creates a key value pair in \n",
    "#                               the dictionary, where key will be \"key\" passed as argument and value will be\n",
    "#                               default which \"Message\"\n",
    "\n",
    "# print(d.setdefault('a', 111))\n",
    "print(d.setdefault('b', 333))\n",
    "print(d)\n"
   ]
  },
  {
   "cell_type": "code",
   "execution_count": 20,
   "id": "df4bac79",
   "metadata": {
    "ExecuteTime": {
     "end_time": "2021-06-01T03:09:06.475876Z",
     "start_time": "2021-06-01T03:09:06.465405Z"
    }
   },
   "outputs": [],
   "source": [
    "# emp_info = {101:['ABC', 10000], 102:['XYZ', 12000], 103:['MNO', 14000], 104:['PQR', 10000]}\n",
    "# print(emp_info[103])\n",
    "\n",
    "emp_info = {101:{\"Name\":'ABC', \n",
    "                 \"Sal\":10000}, \n",
    "            102:{\"Name\":'XYZ', \n",
    "                 \"Sal\":12000}, \n",
    "            103:{\"Name\":'MNO', \n",
    "                 \"Sal\":14000}, \n",
    "            104:{\"Name\":'PQR', \n",
    "                 \"Sal\":10000}}\n",
    "# print(emp_info[103])\n",
    "# print(emp_info[103][\"Sal\"])"
   ]
  },
  {
   "cell_type": "code",
   "execution_count": null,
   "id": "c618a0a4",
   "metadata": {},
   "outputs": [],
   "source": [
    "# emp_name = ['ABC', 'XYZ', 'MNO', 'PQR']\n",
    "# emp_id = [101, 102, 103, 104]\n",
    "# emp_sal = [10000, 12000, 14000, 18000]\n",
    "\n",
    "\n"
   ]
  },
  {
   "cell_type": "code",
   "execution_count": 56,
   "id": "ae9ebc60",
   "metadata": {
    "ExecuteTime": {
     "end_time": "2021-06-01T03:35:51.857076Z",
     "start_time": "2021-06-01T03:35:51.842088Z"
    }
   },
   "outputs": [
    {
     "name": "stdout",
     "output_type": "stream",
     "text": [
      "{101: {'Name': 'Joseph', 'Sal': 11000}, 106: {'Name': 'Kirti', 'Sal': 13000}, 107: {'Name': 'Azad', 'Sal': 15000}, 108: {'Name': 'Raj', 'Sal': 17000}}\n",
      "\n"
     ]
    },
    {
     "data": {
      "text/plain": [
       "{101: {'Name': 'Joseph', 'Sal': 11000},\n",
       " 102: {'Name': 'XYZ', 'Sal': 12000},\n",
       " 104: {'Name': 'MNO', 'Sal': 14000},\n",
       " 103: {'Name': 'PQR', 'Sal': 10000},\n",
       " 106: {'Name': 'Kirti', 'Sal': 13000},\n",
       " 107: {'Name': 'Azad', 'Sal': 15000},\n",
       " 108: {'Name': 'Raj', 'Sal': 17000}}"
      ]
     },
     "execution_count": 56,
     "metadata": {},
     "output_type": "execute_result"
    }
   ],
   "source": [
    "# 'update' => Similar to extend method\n",
    "# It updates a dictionary inside an existing dictionary\n",
    "\n",
    "emp_info = {101:{\"Name\":'ABC', \n",
    "                 \"Sal\":10000}, \n",
    "            102:{\"Name\":'XYZ', \n",
    "                 \"Sal\":12000}, \n",
    "            104:{\"Name\":'MNO', \n",
    "                 \"Sal\":14000}, \n",
    "            103:{\"Name\":'PQR', \n",
    "                 \"Sal\":10000}}\n",
    "\n",
    "emp_det =  {101:{\"Name\":'Joseph', \n",
    "                 \"Sal\":11000}, \n",
    "            106:{\"Name\":'Kirti', \n",
    "                 \"Sal\":13000}, \n",
    "            107:{\"Name\":'Azad', \n",
    "                 \"Sal\":15000}, \n",
    "            108:{\"Name\":'Raj', \n",
    "                 \"Sal\":17000}}\n",
    "emp_info.update(emp_det)\n",
    "# Emp_info will be updated with emp_det, but there will be no change in emp_det\n",
    "print(emp_det)\n",
    "print()\n",
    "emp_info\n",
    "\n",
    "\n"
   ]
  },
  {
   "cell_type": "code",
   "execution_count": 57,
   "id": "753d9d4a",
   "metadata": {
    "ExecuteTime": {
     "end_time": "2021-06-01T03:37:04.072408Z",
     "start_time": "2021-06-01T03:37:04.065732Z"
    }
   },
   "outputs": [
    {
     "name": "stdout",
     "output_type": "stream",
     "text": [
      "{}\n"
     ]
    }
   ],
   "source": [
    "# 'pop', 'popitem', 'clear'\n",
    "\n",
    "# pop(key, [default])\n",
    "\n",
    "# pop(key) => If key is present, then it will remove that key value pair from the dictionary and return only \n",
    "#             the value, else if key is not present then it raise KeyError\n",
    "\n",
    "# print(emp_info.pop(104))\n",
    "# print(emp_info)\n",
    "\n",
    "# print(emp_info.pop(105))\n",
    "\n",
    "# pop(key, default) => If key is present, then it will remove that key value pair from the dictionary and return \n",
    "#                      only the value, else if key is not present then it will give you default value as output.\n",
    "\n",
    "# print(emp_info.pop(105, 'This key is not present'))\n",
    "# print(emp_info)\n",
    "\n",
    "# popitem() -> By default removes the last entry from the dictionary and returns (key, value) pair\n",
    "# print(emp_info.popitem())\n",
    "# emp_info\n",
    "\n",
    "# clear() - removes all element from the dictionary and leaves empty dictionary behind\n",
    "# emp_info.clear()\n",
    "# print(emp_info)\n"
   ]
  },
  {
   "cell_type": "code",
   "execution_count": 60,
   "id": "d1b21d5d",
   "metadata": {
    "ExecuteTime": {
     "end_time": "2021-06-01T03:39:32.703904Z",
     "start_time": "2021-06-01T03:39:32.692053Z"
    }
   },
   "outputs": [
    {
     "data": {
      "text/plain": [
       "{'A': [10, 20, 30, 40, 50, 60],\n",
       " 'B': [10, 20, 30, 40, 50, 60],\n",
       " 'C': [10, 20, 30, 40, 50, 60],\n",
       " 'D': [10, 20, 30, 40, 50, 60],\n",
       " 'E': [10, 20, 30, 40, 50, 60],\n",
       " 'F': [10, 20, 30, 40, 50, 60]}"
      ]
     },
     "execution_count": 60,
     "metadata": {},
     "output_type": "execute_result"
    }
   ],
   "source": [
    "# fromkeys(iterable, default = None) \n",
    "\n",
    "d = {}\n",
    "d = d.fromkeys('ABCDEF', [10,20,30,40,50,60])\n",
    "d\n",
    "\n",
    "\n"
   ]
  },
  {
   "cell_type": "code",
   "execution_count": 48,
   "id": "80c98bdd",
   "metadata": {
    "ExecuteTime": {
     "end_time": "2021-06-01T03:28:02.160393Z",
     "start_time": "2021-06-01T03:28:02.154218Z"
    }
   },
   "outputs": [
    {
     "name": "stdout",
     "output_type": "stream",
     "text": [
      "False\n",
      "True\n"
     ]
    }
   ],
   "source": [
    "# Write a program that accepts a string and change its lowercase vowels to special character as given below:\n",
    "\n",
    "# a #\n",
    "# e @\n",
    "# i $\n",
    "# o %\n",
    "# u !\n",
    "\n",
    "# inp_str = 'Python'\n",
    "# out_str = 'Pyth%n'\n",
    "\n"
   ]
  },
  {
   "cell_type": "code",
   "execution_count": 51,
   "id": "ff8a6383",
   "metadata": {
    "ExecuteTime": {
     "end_time": "2021-06-01T03:29:12.344142Z",
     "start_time": "2021-06-01T03:29:12.338658Z"
    }
   },
   "outputs": [],
   "source": [
    "# Write a program that keeps student's name and his marks in a dictionary as key-value pairs. \n",
    "# The program should store records of 10 students and display students name and marks of first five students \n",
    "# in decreasing order of marks obtained.\n"
   ]
  },
  {
   "cell_type": "code",
   "execution_count": null,
   "id": "104a6944",
   "metadata": {},
   "outputs": [],
   "source": [
    "# Functions\n",
    "\n",
    "\n",
    "\n"
   ]
  },
  {
   "cell_type": "code",
   "execution_count": 66,
   "id": "68dd7bcc",
   "metadata": {
    "ExecuteTime": {
     "end_time": "2021-06-01T03:58:19.963200Z",
     "start_time": "2021-06-01T03:58:19.954929Z"
    }
   },
   "outputs": [
    {
     "name": "stdout",
     "output_type": "stream",
     "text": [
      "10\n",
      "20\n",
      "30\n",
      "40\n"
     ]
    }
   ],
   "source": [
    "lst = [10,20,30,40]\n",
    "# my_iter = iter(lst)         # __iter__\n",
    "# print(my_iter)\n",
    "# print(next(my_iter))\n",
    "# print(next(my_iter))\n",
    "# print(next(my_iter))\n",
    "# print(next(my_iter))\n",
    "# print(next(my_iter))\n",
    "\n",
    "for i in lst:\n",
    "    print(i)"
   ]
  },
  {
   "cell_type": "code",
   "execution_count": null,
   "id": "3167e314",
   "metadata": {},
   "outputs": [],
   "source": [
    "inp_str = 'This is Python class'\n",
    "sep = 'is'\n",
    "out_lst = ['This', 'is', 'Python class']"
   ]
  },
  {
   "cell_type": "code",
   "execution_count": null,
   "id": "0d01c26e",
   "metadata": {},
   "outputs": [],
   "source": []
  },
  {
   "cell_type": "code",
   "execution_count": null,
   "id": "1e9c2fcc",
   "metadata": {},
   "outputs": [],
   "source": []
  },
  {
   "cell_type": "code",
   "execution_count": null,
   "id": "7bee7d51",
   "metadata": {},
   "outputs": [],
   "source": []
  },
  {
   "cell_type": "code",
   "execution_count": null,
   "id": "ced2aa21",
   "metadata": {},
   "outputs": [],
   "source": []
  },
  {
   "cell_type": "code",
   "execution_count": null,
   "id": "998d4545",
   "metadata": {},
   "outputs": [],
   "source": []
  },
  {
   "cell_type": "code",
   "execution_count": null,
   "id": "14de02ee",
   "metadata": {},
   "outputs": [],
   "source": []
  },
  {
   "cell_type": "code",
   "execution_count": null,
   "id": "66beca2a",
   "metadata": {},
   "outputs": [],
   "source": []
  },
  {
   "cell_type": "code",
   "execution_count": null,
   "id": "057c06cc",
   "metadata": {},
   "outputs": [],
   "source": []
  },
  {
   "cell_type": "code",
   "execution_count": null,
   "id": "b78da1f9",
   "metadata": {},
   "outputs": [],
   "source": []
  },
  {
   "cell_type": "code",
   "execution_count": null,
   "id": "aff66beb",
   "metadata": {},
   "outputs": [],
   "source": []
  },
  {
   "cell_type": "code",
   "execution_count": null,
   "id": "6ae42a42",
   "metadata": {},
   "outputs": [],
   "source": []
  },
  {
   "cell_type": "code",
   "execution_count": null,
   "id": "54c2d302",
   "metadata": {},
   "outputs": [],
   "source": []
  },
  {
   "cell_type": "code",
   "execution_count": null,
   "id": "72ad80aa",
   "metadata": {},
   "outputs": [],
   "source": []
  },
  {
   "cell_type": "code",
   "execution_count": null,
   "id": "cf8138e3",
   "metadata": {},
   "outputs": [],
   "source": []
  },
  {
   "cell_type": "code",
   "execution_count": null,
   "id": "897aab5e",
   "metadata": {},
   "outputs": [],
   "source": []
  },
  {
   "cell_type": "code",
   "execution_count": null,
   "id": "41000053",
   "metadata": {},
   "outputs": [],
   "source": []
  },
  {
   "cell_type": "code",
   "execution_count": null,
   "id": "c69064f7",
   "metadata": {},
   "outputs": [],
   "source": []
  },
  {
   "cell_type": "code",
   "execution_count": null,
   "id": "3e0baa6b",
   "metadata": {},
   "outputs": [],
   "source": []
  },
  {
   "cell_type": "code",
   "execution_count": null,
   "id": "267d7103",
   "metadata": {},
   "outputs": [],
   "source": []
  },
  {
   "cell_type": "code",
   "execution_count": null,
   "id": "f42b4f4f",
   "metadata": {},
   "outputs": [],
   "source": []
  },
  {
   "cell_type": "code",
   "execution_count": null,
   "id": "9567676c",
   "metadata": {},
   "outputs": [],
   "source": []
  },
  {
   "cell_type": "code",
   "execution_count": null,
   "id": "457d358f",
   "metadata": {},
   "outputs": [],
   "source": []
  },
  {
   "cell_type": "code",
   "execution_count": null,
   "id": "ce0f1a89",
   "metadata": {},
   "outputs": [],
   "source": []
  },
  {
   "cell_type": "code",
   "execution_count": null,
   "id": "5a8b8731",
   "metadata": {},
   "outputs": [],
   "source": []
  },
  {
   "cell_type": "code",
   "execution_count": null,
   "id": "05b759d4",
   "metadata": {},
   "outputs": [],
   "source": []
  },
  {
   "cell_type": "code",
   "execution_count": null,
   "id": "7e1164e5",
   "metadata": {},
   "outputs": [],
   "source": []
  },
  {
   "cell_type": "code",
   "execution_count": null,
   "id": "3e2779f2",
   "metadata": {},
   "outputs": [],
   "source": []
  },
  {
   "cell_type": "code",
   "execution_count": null,
   "id": "935d54d5",
   "metadata": {},
   "outputs": [],
   "source": []
  },
  {
   "cell_type": "code",
   "execution_count": null,
   "id": "6f3d641b",
   "metadata": {},
   "outputs": [],
   "source": []
  },
  {
   "cell_type": "code",
   "execution_count": null,
   "id": "0e948c20",
   "metadata": {},
   "outputs": [],
   "source": []
  },
  {
   "cell_type": "code",
   "execution_count": null,
   "id": "96456e98",
   "metadata": {},
   "outputs": [],
   "source": []
  }
 ],
 "metadata": {
  "kernelspec": {
   "display_name": "Python 3",
   "language": "python",
   "name": "python3"
  },
  "language_info": {
   "codemirror_mode": {
    "name": "ipython",
    "version": 3
   },
   "file_extension": ".py",
   "mimetype": "text/x-python",
   "name": "python",
   "nbconvert_exporter": "python",
   "pygments_lexer": "ipython3",
   "version": "3.8.2"
  }
 },
 "nbformat": 4,
 "nbformat_minor": 5
}
